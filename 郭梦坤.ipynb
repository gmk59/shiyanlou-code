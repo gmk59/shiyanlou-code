{
 "metadata": {
  "language_info": {
   "codemirror_mode": {
    "name": "ipython",
    "version": 3
   },
   "file_extension": ".py",
   "mimetype": "text/x-python",
   "name": "python",
   "nbconvert_exporter": "python",
   "pygments_lexer": "ipython3",
   "version": 3
  },
  "orig_nbformat": 2
 },
 "nbformat": 4,
 "nbformat_minor": 2,
 "cells": [
  {
   "cell_type": "code",
   "execution_count": null,
   "metadata": {},
   "outputs": [],
   "source": [
    "#有一个非常大的数组比如1亿个数字，求出里面数字小于5000的数字数目\n",
    "import numpy as np\n",
    "c=np.random.randint(1,10000,size=(10**8))#或size=int(1e8)\n",
    "print((c<5000).sum())"
   ]
  },
  {
   "cell_type": "code",
   "execution_count": null,
   "metadata": {},
   "outputs": [],
   "source": [
    "#如何在数组A中找到满足包含B中元素的行？(不考虑B中每行元素顺序)？(提示: np.where)\n",
    "#ps：笨方法\n",
    "import numpy as np\n",
    "a=np.random.choice(3,(8,3))\n",
    "b=np.random.choice(3,(2,2))\n",
    "for ia in range(8):\n",
    "    e=np.array(a[ia])\n",
    "    mmp=np.in1d(b,e)\n",
    "    mmp1=mmp.all()\n",
    "    print(e,b,mmp,mmp1)\n",
    "    d=(np.where(mmp1,ia,None))\n",
    "    print(d)"
   ]
  },
  {
   "cell_type": "code",
   "execution_count": null,
   "metadata": {},
   "outputs": [],
   "source": [
    "#如何在数组A中找到满足包含B中元素的行？(不考虑B中每行元素顺序)？(提示: np.where)\n",
    "#百度的\n",
    "import numpy as np\n",
    "A=np.random.choice(3,(8,3))\n",
    "B=np.random.choice(3,(2,2))\n",
    "C=A[...,np.newaxis,np.newaxis]==B\n",
    "D=C.any((3,1)).all(1)\n",
    "E=np.where(D)[0]\n",
    "print(E)"
   ]
  }
 ]
}