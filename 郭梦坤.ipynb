{
 "metadata": {
  "language_info": {
   "codemirror_mode": {
    "name": "ipython",
    "version": 3
   },
   "file_extension": ".py",
   "mimetype": "text/x-python",
   "name": "python",
   "nbconvert_exporter": "python",
   "pygments_lexer": "ipython3",
   "version": "3.8.6-final"
  },
  "orig_nbformat": 2,
  "kernelspec": {
   "name": "python3",
   "display_name": "Python 3.8.6 64-bit",
   "metadata": {
    "interpreter": {
     "hash": "ca0160dac783e7a65f5ae062ece0e5efa5103e3ed9bc2d9725dee8321d5e9471"
    }
   }
  }
 },
 "nbformat": 4,
 "nbformat_minor": 2,
 "cells": [
  {
   "cell_type": "code",
   "execution_count": null,
   "metadata": {},
   "outputs": [],
   "source": [
    "#有一个非常大的数组比如1亿个数字，求出里面数字小于5000的数字数目\n",
    "import numpy as np\n",
    "c=np.random.randint(1,10000,size=(10**8))#或size=int(1e8)\n",
    "print((c<5000).sum())"
   ]
  },
  {
   "cell_type": "code",
   "execution_count": 1,
   "metadata": {},
   "outputs": [
    {
     "output_type": "stream",
     "name": "stdout",
     "text": [
      "[2 2 2] [[0 2]\n [0 0]] [False  True False False] False\nNone\n[0 2 1] [[0 2]\n [0 0]] [ True  True  True  True] True\n1\n[2 1 1] [[0 2]\n [0 0]] [False  True False False] False\nNone\n[0 2 1] [[0 2]\n [0 0]] [ True  True  True  True] True\n3\n[2 2 0] [[0 2]\n [0 0]] [ True  True  True  True] True\n4\n[1 0 2] [[0 2]\n [0 0]] [ True  True  True  True] True\n5\n[1 0 0] [[0 2]\n [0 0]] [ True False  True  True] False\nNone\n[2 0 2] [[0 2]\n [0 0]] [ True  True  True  True] True\n7\n"
     ]
    }
   ],
   "source": [
    "#如何在数组A中找到满足包含B中元素的行？(不考虑B中每行元素顺序)？(提示: np.where)\n",
    "import numpy as np\n",
    "a=np.random.choice(3,(8,3))\n",
    "b=np.random.choice(3,(2,2))\n",
    "for ia in range(8):\n",
    "    e=np.array(a[ia])\n",
    "    mmp=np.in1d(b,e)\n",
    "    mmp1=mmp.all()\n",
    "    print(e,b,mmp,mmp1)\n",
    "    d=(np.where(mmp1,ia,None))\n",
    "    print(d)"
   ]
  },
  {
   "cell_type": "code",
   "execution_count": null,
   "metadata": {},
   "outputs": [],
   "source": []
  }
 ]
}